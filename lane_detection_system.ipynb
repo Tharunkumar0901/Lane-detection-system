{
 "cells": [
  {
   "cell_type": "code",
   "execution_count": null,
   "metadata": {},
   "outputs": [],
   "source": [
    "import cv2\n",
    "import numpy as np\n",
    "import matplotlib.pyplot as plt\n",
    "image =cv2.imread('img.jfif')\n",
    "from google.colab.patches import cv2_imshow\n",
    "cv2_imshow(image)"
   ]
  },
  {
   "cell_type": "code",
   "execution_count": null,
   "metadata": {},
   "outputs": [],
   "source": [
    "def coordinate(image,lineparameters):\n",
    "  slope,intercept = lineparameters\n",
    "  y1=image.shape[0]\n",
    "  y2=int(y1*3/5)\n",
    "  x1=int((y1-intercept)/slope)\n",
    "  x2=int((y2-intercept)/slope)\n",
    "  return np.array([x1,y1,x2,y2])"
   ]
  },
  {
   "cell_type": "code",
   "execution_count": null,
   "metadata": {},
   "outputs": [],
   "source": [
    "def average_slope_intercept(image,lines):\n",
    "  right_fit=[]\n",
    "  left_fit=[]\n",
    "  for line in lines:\n",
    "    x1,y1,x2,y2 =line.reshape(4)\n",
    "    parameters =np.polyfit((x1,x2),(y1,y2),1)\n",
    "    slope=parameters[0]\n",
    "    intercept = parameters[1]\n",
    "    if slope<0:\n",
    "      left_fit.append((slope,intercept))\n",
    "    else:\n",
    "      right_fit.append((slope,intercept))\n",
    "  left_fit_average=np.average(left_fit,axis=0)\n",
    "  right_fit_average=np.average(right_fit,axis=0)\n",
    "  left_line=coordinate(image,left_fit_average)\n",
    "  right_line=coordinate(image,right_fit_average)\n",
    "  return np.array([left_line,right_line])"
   ]
  },
  {
   "cell_type": "code",
   "execution_count": null,
   "metadata": {},
   "outputs": [],
   "source": [
    "def canny(image):\n",
    "  gray=cv2.cvtColor(image,cv2.COLOR_RGB2GRAY)\n",
    "  blur=cv2.GaussianBlur(gray,(5,5),0)\n",
    "  canny =cv2.Canny(blur,50,150)\n",
    "  return(canny)"
   ]
  },
  {
   "cell_type": "code",
   "execution_count": null,
   "metadata": {},
   "outputs": [],
   "source": [
    "def region(image):\n",
    "  height=image.shape[0]\n",
    "  polygons=np.array([[(50,height),(280,height),(150,40)]])\n",
    "  m=np.zeros_like(image)\n",
    "  cv2.fillPoly(m,polygons,255)\n",
    "  mi=cv2.bitwise_and(image,m)\n",
    "  return mi"
   ]
  },
  {
   "cell_type": "code",
   "execution_count": null,
   "metadata": {},
   "outputs": [],
   "source": [
    "def lineform(image,lines):\n",
    "  line_image = np.zeros_like(image)\n",
    "  if lines is not None:\n",
    "    for line in lines:\n",
    "      x1,y1,x2,y2 = line.reshape(4)\n",
    "      cv2.line(line_image,(x1,y1),(x2,y2),(255,0,0),10)\n",
    "  return line_image"
   ]
  },
  {
   "cell_type": "code",
   "execution_count": null,
   "metadata": {},
   "outputs": [],
   "source": [
    "lane_image=np.copy(image)\n",
    "canny=canny(lane_image)\n",
    "mask=region(canny)\n",
    "lines = cv2.HoughLinesP(mask,2,np.pi/180,100,np.array([]),minLineLength=40,maxLineGap=5)\n",
    "averaged_lines = average_slope_intercept(lane_image,lines)\n",
    "line_image = lineform(lane_image,averaged_lines)\n",
    "combined_image=cv2.addWeighted(lane_image,0.7,line_image,1,1)\n",
    "from google.colab.patches import cv2_imshow\n",
    "cv2_imshow(canny)\n",
    "plt.imshow(canny)\n",
    "plt.show()\n",
    "mask=region(canny)\n",
    "cv2_imshow(mask)\n",
    "cv2_imshow(line_image)\n",
    "cv2_imshow(combined_image)"
   ]
  }
 ],
 "metadata": {
  "language_info": {
   "name": "python"
  },
  "orig_nbformat": 4
 },
 "nbformat": 4,
 "nbformat_minor": 2
}
